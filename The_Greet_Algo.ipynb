{
  "nbformat": 4,
  "nbformat_minor": 0,
  "metadata": {
    "colab": {
      "provenance": [],
      "authorship_tag": "ABX9TyOyCQ054SqJYtm9OAFO3t2H",
      "include_colab_link": true
    },
    "kernelspec": {
      "name": "python3",
      "display_name": "Python 3"
    },
    "language_info": {
      "name": "python"
    }
  },
  "cells": [
    {
      "cell_type": "markdown",
      "metadata": {
        "id": "view-in-github",
        "colab_type": "text"
      },
      "source": [
        "<a href=\"https://colab.research.google.com/github/NealKumawat/The-Greet-Algo/blob/main/The_Greet_Algo.ipynb\" target=\"_parent\"><img src=\"https://colab.research.google.com/assets/colab-badge.svg\" alt=\"Open In Colab\"/></a>"
      ]
    },
    {
      "cell_type": "markdown",
      "source": [
        "#Improting Module for time\n",
        "Module 'datetime' was imported."
      ],
      "metadata": {
        "id": "UpVNaD9q35OC"
      }
    },
    {
      "cell_type": "code",
      "source": [
        "from datetime import datetime\n"
      ],
      "metadata": {
        "id": "LD_BYdEn340z"
      },
      "execution_count": null,
      "outputs": []
    },
    {
      "cell_type": "markdown",
      "source": [
        "#Variable association\n",
        "Variables like 'time' was assigned to store the current time of the server. 't' contains the current time in Hours, Minutes and Seconds."
      ],
      "metadata": {
        "id": "go7kC2vK4Q5S"
      }
    },
    {
      "cell_type": "code",
      "source": [
        "time=datetime.now()\n",
        "t=time.strftime('%H:%M:%S')"
      ],
      "metadata": {
        "id": "SzFZS2mK4SjF"
      },
      "execution_count": null,
      "outputs": []
    },
    {
      "cell_type": "markdown",
      "source": [
        "#Typecasting\n",
        "So the time we have in our above assigned variable is in \"String\" format and also in 24 Hour format. So to present the time in 12 Hour format individual variables were created and were typecasted as integers so that operations could be performed."
      ],
      "metadata": {
        "id": "_-CaLNM05iFf"
      }
    },
    {
      "cell_type": "code",
      "source": [
        "h=int(time.strftime('%H'))\n",
        "tt=24-h\n",
        "m=int(time.strftime('%M'))\n",
        "s=int(time.strftime('%S'))"
      ],
      "metadata": {
        "id": "CRXmIuJR5igf"
      },
      "execution_count": null,
      "outputs": []
    },
    {
      "cell_type": "markdown",
      "source": [
        "#Building Logics\n",
        "Using conditional statements to check wheather it is the time to greet \"Good Morning\", \"Good Afternoon\" or \"Good Night\"."
      ],
      "metadata": {
        "id": "sIS6HiR36ZzH"
      }
    },
    {
      "cell_type": "code",
      "source": [
        "if (h>5 and h<12):\n",
        "  print(\"Good Morning\")\n",
        "elif(h>12 and h<17):\n",
        "  print(\"Good Afternoon\")\n",
        "else:\n",
        "  print('Good Night')"
      ],
      "metadata": {
        "id": "BbSfXnf_6aLT"
      },
      "execution_count": null,
      "outputs": []
    },
    {
      "cell_type": "markdown",
      "source": [
        "#Converting Time in 12 Hour format\n",
        "The assigned variables were used to display the time in 12 Hour Format. Also conditional statements were used to check wheather it was 'a.m.' or 'p.m.'."
      ],
      "metadata": {
        "id": "-8cuvqGg7ANf"
      }
    },
    {
      "cell_type": "code",
      "source": [
        "print(\"Also want to let you know that the time is\",t, \"so it is \")\n",
        "if (h>0 and h<12):\n",
        "  print(\"a.m.\")\n",
        "else:\n",
        "  print('p.m.')"
      ],
      "metadata": {
        "id": "ZgyssGlx7A4q"
      },
      "execution_count": null,
      "outputs": []
    },
    {
      "cell_type": "markdown",
      "source": [
        "#Displaying Time in 12 Hour Format\n",
        "Here to make it look good and neat, concatenation is used."
      ],
      "metadata": {
        "id": "eKdOWWtn7xkh"
      }
    },
    {
      "cell_type": "code",
      "source": [
        "if h < 12:\n",
        "  a = 'In 12 hours time zone the current time will be ' + str(h) + ':' + str(m) + ':' + str(s)\n",
        "  print(a.replace(' ', ''))\n",
        "else:\n",
        "  print('In 12 hours time zone the current time will be ' + str(tt) + ':' + str(m) + ':' + str(s))"
      ],
      "metadata": {
        "id": "TTuaQH3D7yCs"
      },
      "execution_count": null,
      "outputs": []
    }
  ]
}